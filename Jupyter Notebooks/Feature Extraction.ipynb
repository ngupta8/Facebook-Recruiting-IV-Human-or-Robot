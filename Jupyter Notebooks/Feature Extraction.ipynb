{
 "cells": [
  {
   "cell_type": "markdown",
   "metadata": {},
   "source": [
    "------\n",
    "### Metis: Project McNulty \n",
    ">  Neha Gupta                \n",
    ">  Date: 02/13/2019\n",
    "-------"
   ]
  },
  {
   "cell_type": "markdown",
   "metadata": {},
   "source": [
    "### Import Libraries"
   ]
  },
  {
   "cell_type": "code",
   "execution_count": 44,
   "metadata": {},
   "outputs": [],
   "source": [
    "import matplotlib.pyplot as plt\n",
    "import pandas as pd\n",
    "import seaborn as sns\n",
    "%matplotlib inline"
   ]
  },
  {
   "cell_type": "markdown",
   "metadata": {},
   "source": [
    "#### Upload Files through Spark"
   ]
  },
  {
   "cell_type": "markdown",
   "metadata": {},
   "source": [
    "__Upload bids file__"
   ]
  },
  {
   "cell_type": "code",
   "execution_count": 45,
   "metadata": {},
   "outputs": [
    {
     "name": "stdout",
     "output_type": "stream",
     "text": [
      "+------+--------------------+-------+-----------+------+----------------+-------+--------------+---------------+\n",
      "|bid_id|           bidder_id|auction|merchandise|device|            time|country|            ip|            url|\n",
      "+------+--------------------+-------+-----------+------+----------------+-------+--------------+---------------+\n",
      "|     0|8dac2b259fd1c6d11...|  ewmzr|    jewelry|phone0|9759243157894736|     us| 69.166.231.58|vasstdc27m7nks3|\n",
      "|     1|668d393e858e81262...|  aeqok|  furniture|phone1|9759243157894736|     in| 50.201.125.84|jmqlhflrzwuay9c|\n",
      "|     2|aa5f360084278b35d...|  wa00e| home goods|phone2|9759243157894736|     py|112.54.208.157|vasstdc27m7nks3|\n",
      "|     3|3939ac3ef7d472a59...|  jefix|    jewelry|phone4|9759243157894736|     in| 18.99.175.133|vasstdc27m7nks3|\n",
      "|     4|8393c48eaf4b8fa96...|  jefix|    jewelry|phone5|9759243157894736|     in|  145.138.5.37|vasstdc27m7nks3|\n",
      "+------+--------------------+-------+-----------+------+----------------+-------+--------------+---------------+\n",
      "\n",
      "+--------+\n",
      "|count(1)|\n",
      "+--------+\n",
      "| 7656334|\n",
      "+--------+\n",
      "\n"
     ]
    }
   ],
   "source": [
    "df_bids = spark.read.format('com.databricks.spark.csv').options(header='true', inferschema='true').load('/Users/admin/Downloads/facebook-recruiting-iv-human-or-bot/bids.csv')\n",
    "df_bids.createOrReplaceTempView('bids')\n",
    "\n",
    "spark.sql('select * from bids limit 5').show()\n",
    "\n",
    "spark.sql('select count(*) from bids').show()"
   ]
  },
  {
   "cell_type": "markdown",
   "metadata": {},
   "source": [
    "__Upload train file__"
   ]
  },
  {
   "cell_type": "code",
   "execution_count": 46,
   "metadata": {},
   "outputs": [
    {
     "name": "stdout",
     "output_type": "stream",
     "text": [
      "+--------------------+--------------------+--------------------+-------+\n",
      "|           bidder_id|     payment_account|             address|outcome|\n",
      "+--------------------+--------------------+--------------------+-------+\n",
      "|91a3c57b13234af24...|a3d2de7675556553a...|a3d2de7675556553a...|    0.0|\n",
      "|624f258b49e77713f...|a3d2de7675556553a...|ae87054e5a97a8f84...|    0.0|\n",
      "|1c5f4fc669099bfbf...|a3d2de7675556553a...|92520288b50f03907...|    0.0|\n",
      "|4bee9aba2abda51bf...|51d80e233f7b6a7df...|4cb9717c8ad7e88a9...|    0.0|\n",
      "|4ab12bc61c82ddd9c...|a3d2de7675556553a...|2a96c3ce94b3be921...|    0.0|\n",
      "+--------------------+--------------------+--------------------+-------+\n",
      "\n",
      "+--------+\n",
      "|count(1)|\n",
      "+--------+\n",
      "|    2013|\n",
      "+--------+\n",
      "\n"
     ]
    }
   ],
   "source": [
    "df_train = spark.read.format('com.databricks.spark.csv').options(header='true', inferschema='true').load('/Users/admin/Downloads/facebook-recruiting-iv-human-or-bot/train.csv')\n",
    "df_train.createOrReplaceTempView('train')\n",
    "\n",
    "spark.sql('select * from train limit 5').show()\n",
    "\n",
    "spark.sql('select count(*) from train').show()"
   ]
  },
  {
   "cell_type": "markdown",
   "metadata": {},
   "source": [
    "# Features Extraction"
   ]
  },
  {
   "cell_type": "markdown",
   "metadata": {},
   "source": [
    "__Feature of counts: Counts of distinct values for a bidder__"
   ]
  },
  {
   "cell_type": "code",
   "execution_count": 47,
   "metadata": {},
   "outputs": [],
   "source": [
    "feature_of_counts= spark.sql('''\n",
    "select \n",
    "    bidder_id,\n",
    "    count(distinct bid_id) as bid_count,\n",
    "    count(distinct auction) as auction_count,\n",
    "    count(distinct merchandise) as merc_count,\n",
    "    count(distinct device) as device_count,\n",
    "    count(distinct country) as country_count,\n",
    "    count(distinct ip) as ip_count,\n",
    "    count(distinct url) as url_count\n",
    "from bids\n",
    "group by bidder_id''')\n",
    "feature_of_counts.createOrReplaceTempView('feature_of_counts')"
   ]
  },
  {
   "cell_type": "markdown",
   "metadata": {},
   "source": [
    "__Feature of averages: Average of distinct values per auction__"
   ]
  },
  {
   "cell_type": "code",
   "execution_count": 48,
   "metadata": {},
   "outputs": [],
   "source": [
    "feature_of_avgs= spark.sql(''' \n",
    "select \n",
    "    a.bidder_id, \n",
    "    sum(num_country)/count(distinct auction) average_distinct_country_per_auction,\n",
    "    sum(num_urls)/count(distinct auction) average_distinct_urls_per_auction,\n",
    "    sum(num_ips)/count(distinct auction) average_distinct_ip_per_auction,\n",
    "    sum(num_devices)/count(distinct auction) average_distinct_dev_per_auction,\n",
    "    sum(num_merc)/count(distinct auction) average_distinct_merc_per_auction,\n",
    "    sum(num_bids)/count(distinct auction) average_bids_per_auction,\n",
    "    count(distinct a.auction) num_auction\n",
    "from (\n",
    "    select \n",
    "        bidder_id,\n",
    "        auction,\n",
    "        count(distinct bid_id) num_bids,\n",
    "        count(distinct country) num_country,\n",
    "        count(distinct url) num_urls,\n",
    "        count(distinct ip) num_ips,\n",
    "        count(distinct device) num_devices,\n",
    "        count(distinct merchandise) num_merc\n",
    "    from bids \n",
    "    group by bidder_id,auction) a \n",
    "group by a.bidder_id''')\n",
    "feature_of_avgs.createOrReplaceTempView('feature_of_avgs')"
   ]
  },
  {
   "cell_type": "markdown",
   "metadata": {},
   "source": [
    "__Feature of time series: Resonse time in auctions by a bidder__"
   ]
  },
  {
   "cell_type": "code",
   "execution_count": 49,
   "metadata": {},
   "outputs": [],
   "source": [
    "time_lag_feature = spark.sql('''\n",
    "select \n",
    "    bidder_id,  \n",
    "    percentile_approx(delta,0.5) as median_response_time \n",
    "from \n",
    "    (SELECT \n",
    "        bidder_id, \n",
    "        auction, \n",
    "        time - lag(time, 1) OVER (partition by bidder_id,auction ORDER BY time) delta\n",
    "     FROM bids) a\n",
    "group by 1''')\n",
    "time_lag_feature.createOrReplaceTempView('time_lag_feature')"
   ]
  },
  {
   "cell_type": "markdown",
   "metadata": {},
   "source": [
    "__Feature of time series: Average response time across auctions__"
   ]
  },
  {
   "cell_type": "code",
   "execution_count": 50,
   "metadata": {},
   "outputs": [],
   "source": [
    "across_auction_time_lag_feature = spark.sql('''\n",
    "select\n",
    " bidder_id, percentile_approx(delta,0.5) as avg_response_time_across_auctions from (\n",
    "select\n",
    "    bidder_id,\n",
    "    auction,\n",
    "    first_bid_time - lag(first_bid_time, 1) OVER (partition by bidder_id ORDER BY first_bid_time) delta\n",
    "from\n",
    "    (SELECT \n",
    "        bidder_id, \n",
    "        auction, \n",
    "        Min(time) first_bid_time\n",
    "     FROM bids group by 1,2 order by bidder_id) a) b group by 1''')\n",
    "across_auction_time_lag_feature.createOrReplaceTempView('across_auction_time_lag_feature')"
   ]
  },
  {
   "cell_type": "markdown",
   "metadata": {},
   "source": [
    "__Feature of count: total no of won auctions__"
   ]
  },
  {
   "cell_type": "code",
   "execution_count": 51,
   "metadata": {},
   "outputs": [],
   "source": [
    "won_auctions = spark.sql('''\n",
    "select\n",
    "  count(distinct auction) as num_auction_won,\n",
    "  bidder_id\n",
    "from (\n",
    "select\n",
    " auction,\n",
    " bidder_id,\n",
    " rank() over (partition by auction order by time desc) as winner_rank\n",
    "from bids \n",
    ") a where winner_rank = 1\n",
    "group by bidder_id''')\n",
    "won_auctions.createOrReplaceTempView('won_auctions')"
   ]
  },
  {
   "cell_type": "markdown",
   "metadata": {},
   "source": [
    "__Feature of percentage: Average bid count per auction and no. of competitors__"
   ]
  },
  {
   "cell_type": "code",
   "execution_count": 52,
   "metadata": {},
   "outputs": [],
   "source": [
    "bid_percent = spark.sql('''\n",
    "select \n",
    "b.bidder_id, \n",
    "sum(b.bids_by_bidder_in_auction)/sum(a.bids_in_auction) as avg_bids_auction, \n",
    "sum(a.other_bidders_in_auction)/count(distinct a.auction) as competitors\n",
    "from \n",
    "  (\n",
    "     select \n",
    "       count(*) bids_in_auction,\n",
    "       count(distinct bidder_id) other_bidders_in_auction,\n",
    "       auction \n",
    "     from bids\n",
    "     group by auction\n",
    "  ) a \n",
    "  inner join \n",
    "  (\n",
    "    select \n",
    "      bidder_id, \n",
    "      auction, \n",
    "      count(*) bids_by_bidder_in_auction \n",
    "    from \n",
    "    bids \n",
    "    group by bidder_id,auction\n",
    "  ) b on a.auction = b.auction \n",
    "group by bidder_id''')\n",
    "bid_percent.createOrReplaceTempView('bid_percent')"
   ]
  },
  {
   "cell_type": "markdown",
   "metadata": {},
   "source": [
    "__Feature of time series: Median response time of a bidder and __"
   ]
  },
  {
   "cell_type": "code",
   "execution_count": 53,
   "metadata": {},
   "outputs": [],
   "source": [
    "time_to_respond = spark.sql('''\n",
    "select\n",
    " bidder_id,\n",
    " percentile_approx(time_to_respond_comp,0.5) as median_time_to_respond_competition,\n",
    " percentile_approx(time_to_respond_self,0.5) as median_time_to_respond_self\n",
    " from (\n",
    "  Select\n",
    "  bidder_id,\n",
    "  case when bidder_id != previous_bidder_id\n",
    "      then (time - time_to_respond_competiton)\n",
    "      else 0\n",
    "  end as time_to_respond_comp,\n",
    "  time_to_respond_self\n",
    "  from\n",
    "    (SELECT \n",
    "        bidder_id, \n",
    "        auction, \n",
    "        time,\n",
    "        lag(bidder_id,1) over (partition by auction order by time) as previous_bidder_id,\n",
    "        lag(time, 1) over (partition by auction order by time) as time_to_respond_competiton,\n",
    "        nvl(time - lag(time, 1) over (partition by auction,bidder_id order by time), -1) as time_to_respond_self\n",
    "    from bids) a\n",
    ") b\n",
    "group by bidder_id\n",
    "''')\n",
    "time_to_respond.createOrReplaceTempView('time_to_respond')\n"
   ]
  },
  {
   "cell_type": "markdown",
   "metadata": {},
   "source": [
    "__All Features joined with train data__"
   ]
  },
  {
   "cell_type": "code",
   "execution_count": 54,
   "metadata": {},
   "outputs": [
    {
     "data": {
      "text/plain": [
       "1984"
      ]
     },
     "execution_count": 54,
     "metadata": {},
     "output_type": "execute_result"
    }
   ],
   "source": [
    "feature_of_all_train= spark.sql('''\n",
    "select \n",
    "    a.bidder_id,\n",
    "    a.bid_count,\n",
    "    a.auction_count,\n",
    "    a.merc_count,\n",
    "    a.device_count,\n",
    "    a.country_count,\n",
    "    a.ip_count,\n",
    "    a.url_count,\n",
    "    round(b.average_distinct_country_per_auction,3) average_distinct_country_per_auction, \n",
    "    round(b.average_distinct_urls_per_auction,3) average_distinct_urls_per_auction,\n",
    "    round(b.average_distinct_ip_per_auction,3) average_distinct_ip_per_auction,\n",
    "    round(b.average_distinct_dev_per_auction,3) average_distinct_dev_per_auction,\n",
    "    round(b.average_distinct_merc_per_auction,3) average_distinct_merc_per_auction,\n",
    "    round(b.average_bids_per_auction,3) average_bids_per_auction,\n",
    "    nvl(tl.median_response_time,0) median_response_time,\n",
    "    nvl(aatl.avg_response_time_across_auctions,0) median_response_time_across_auction,\n",
    "    b.num_auction,\n",
    "    nvl(wa.num_auction_won,0) num_auction_won,\n",
    "    nvl(wa.num_auction_won,0)/b.num_auction percentage_win,\n",
    "    bp.avg_bids_auction,\n",
    "    bp.competitors,\n",
    "    tr.median_time_to_respond_competition,\n",
    "    tr.median_time_to_respond_self,\n",
    "    t.outcome\n",
    "from feature_of_counts a \n",
    "    join train t \n",
    "        on a.bidder_id = t.bidder_id\n",
    "    join feature_of_avgs b \n",
    "        on t.bidder_id = b.bidder_id \n",
    "    join time_lag_feature tl\n",
    "        on b.bidder_id = tl.bidder_id\n",
    "    join across_auction_time_lag_feature aatl\n",
    "        on tl.bidder_id = aatl.bidder_id\n",
    "    join bid_percent bp\n",
    "        on aatl.bidder_id = bp.bidder_id\n",
    "    join time_to_respond tr\n",
    "        on bp.bidder_id = tr.bidder_id\n",
    "    left outer join won_auctions wa\n",
    "        on tr.bidder_id = wa.bidder_id''')\n",
    "\n",
    "\n",
    "feature_of_all_train.count()"
   ]
  },
  {
   "cell_type": "markdown",
   "metadata": {},
   "source": [
    "__Creating csv file__"
   ]
  },
  {
   "cell_type": "code",
   "execution_count": 56,
   "metadata": {},
   "outputs": [],
   "source": [
    "feature_of_all_train.repartition(1).write.format(\"com.databricks.spark.csv\").option(\"header\",\"true\").save(\"train_data_withfeatures.csv\")"
   ]
  },
  {
   "cell_type": "code",
   "execution_count": null,
   "metadata": {},
   "outputs": [],
   "source": [
    "# feature_of_all_test= spark.sql('''\n",
    "# select \n",
    "#     a.bidder_id,\n",
    "#     a.bid_count,\n",
    "#     a.auction_count,\n",
    "#     a.merc_count,\n",
    "#     a.device_count,\n",
    "#     a.country_count,\n",
    "#     a.ip_count,\n",
    "#     a.url_count,\n",
    "#     round(b.average_distinct_country_per_auction,3) average_distinct_country_per_auction, \n",
    "#     round(b.average_distinct_urls_per_auction,3) average_distinct_urls_per_auction,\n",
    "#     round(b.average_distinct_ip_per_auction,3) average_distinct_ip_per_auction,\n",
    "#     round(b.average_distinct_dev_per_auction,3) average_distinct_dev_per_auction,\n",
    "#     round(b.average_distinct_merc_per_auction,3) average_distinct_merc_per_auction,\n",
    "#     round(b.average_bids_per_auction,3) average_bids_per_auction,\n",
    "#     nvl(tl.median_response_time,0) median_response_time,\n",
    "#     nvl(aatl.avg_response_time_across_auctions,0) median_response_time_across_auction,\n",
    "#     b.num_auction,\n",
    "#     nvl(wa.num_auction_won,0) num_auction_won,\n",
    "#     nvl(wa.num_auction_won,0)/b.num_auction percentage_win,\n",
    "#     bp.avg_bids_auction,\n",
    "#     bp.competitors,\n",
    "#     tr.median_time_to_respond_competition,\n",
    "#     tr.median_time_to_respond_self\n",
    "# from feature_of_counts a \n",
    "#     inner join test t \n",
    "#         on a.bidder_id = t.bidder_id\n",
    "#     inner join feature_of_avgs b \n",
    "#         on t.bidder_id = b.bidder_id \n",
    "#     inner join time_lag_feature tl\n",
    "#         on b.bidder_id = tl.bidder_id\n",
    "#     inner join across_auction_time_lag_feature aatl\n",
    "#         on tl.bidder_id = aatl.bidder_id\n",
    "#     join bid_percent bp\n",
    "#         on aatl.bidder_id = bp.bidder_id\n",
    "#     join time_to_respond tr\n",
    "#         on bp.bidder_id = tr.bidder_id\n",
    "#     left outer join won_auctions wa\n",
    "#         on tr.bidder_id = wa.bidder_id''')\n",
    "\n",
    "\n",
    "# feature_of_all_test.count()"
   ]
  },
  {
   "cell_type": "code",
   "execution_count": null,
   "metadata": {},
   "outputs": [],
   "source": [
    "# feature_of_all_test.repartition(1).write.format(\"com.databricks.spark.csv\").option(\"header\", \"true\").save(\"test_data_withfeature.csv\")"
   ]
  },
  {
   "cell_type": "markdown",
   "metadata": {},
   "source": [
    "__Joining bids and train files__"
   ]
  },
  {
   "cell_type": "code",
   "execution_count": 26,
   "metadata": {},
   "outputs": [],
   "source": [
    "bids_join_train= spark.sql('''\n",
    "select a.*, b.outcome from bids a inner join train b on a.bidder_id = b.bidder_id\n",
    "''')\n",
    "bids_join_train.createOrReplaceTempView('bids_join_train')"
   ]
  },
  {
   "cell_type": "markdown",
   "metadata": {},
   "source": [
    "__Calculating no of Bots and Human__"
   ]
  },
  {
   "cell_type": "code",
   "execution_count": 27,
   "metadata": {},
   "outputs": [],
   "source": [
    "hu_vs_bots = spark.sql('''\n",
    "select \n",
    "        outcome,\n",
    "        max(c_by_outcome) c_by_outcome, \n",
    "        max(perc_bids) perc_bids, \n",
    "        max(perc_a_h_v_b) perc_a_h_v_b, \n",
    "        max(t_c) t_c,\n",
    "        avg(perc_by_auction) as avg_bids_by_auction\n",
    "from\n",
    "    (select \n",
    "        distinct \n",
    "            outcome,\n",
    "            auction, \n",
    "            count(*) over(partition by outcome) c_by_outcome,\n",
    "            count(*) over(partition by auction,outcome)/count(*) over(partition by auction) as perc_by_auction, \n",
    "            count(*) over(partition by outcome) /count(*) over () perc_bids,\n",
    "            sum(wa.num_auction_won) over(partition by outcome)/sum(wa.num_auction_won) over() perc_a_h_v_b,\n",
    "            count(*) over() t_c\n",
    "    from \n",
    "        bids_join_train bt \n",
    "            left outer join \n",
    "        won_auctions wa\n",
    "            on bt.bidder_id = wa.bidder_id) a \n",
    "    group by outcome\n",
    "''')\n",
    "hu_vs_bots.createOrReplaceTempView('hu_vs_bots')"
   ]
  },
  {
   "cell_type": "code",
   "execution_count": 28,
   "metadata": {},
   "outputs": [
    {
     "name": "stdout",
     "output_type": "stream",
     "text": [
      "+-------+------------+-------------------+-------------------+-------+-------------------+\n",
      "|outcome|c_by_outcome|          perc_bids|       perc_a_h_v_b|    t_c|avg_bids_by_auction|\n",
      "+-------+------------+-------------------+-------------------+-------+-------------------+\n",
      "|    0.0|     2658808| 0.8657160793221205| 0.9169151916130307|3071224| 0.8786148813967739|\n",
      "|    1.0|      412416|0.13428392067787956|0.08308480838696927|3071224|0.31199708695399525|\n",
      "+-------+------------+-------------------+-------------------+-------+-------------------+\n",
      "\n"
     ]
    }
   ],
   "source": [
    "hu_vs_bots.show()"
   ]
  },
  {
   "cell_type": "markdown",
   "metadata": {},
   "source": [
    "__Making sure that spark generate one file of all data__"
   ]
  },
  {
   "cell_type": "code",
   "execution_count": 18,
   "metadata": {},
   "outputs": [],
   "source": [
    "bids_join_train.repartition(1).write.format(\"com.databricks.spark.csv\").option(\"header\", \"true\").save(\"bids_join_train.csv\")"
   ]
  },
  {
   "cell_type": "markdown",
   "metadata": {},
   "source": [
    "### Visualizations for EDA"
   ]
  },
  {
   "cell_type": "markdown",
   "metadata": {},
   "source": [
    "__Uploading newly generated file with all features__"
   ]
  },
  {
   "cell_type": "code",
   "execution_count": null,
   "metadata": {},
   "outputs": [],
   "source": [
    "df_bids_outcome = pd.read_csv('/Users/admin/Downloads/facebook-recruiting-iv-human-or-bot/bids_with_outcome.csv')"
   ]
  },
  {
   "cell_type": "code",
   "execution_count": 21,
   "metadata": {},
   "outputs": [],
   "source": [
    "group_df=[]\n",
    "\n",
    "group_df.append(pd.DataFrame(df_bids_outcome.groupby(['bidder_id','outcome']).size().reset_index(name = \"bid_count\")).dropna())\n",
    "group_df.append(pd.DataFrame(df_bids_outcome.groupby(['auction']).size().reset_index(name = \"bid_count\")).dropna())\n",
    "group_df.append(pd.DataFrame(df_bids_outcome.groupby(['merchandise']).size().reset_index(name = \"bid_count\")).dropna())\n",
    "group_df.append(pd.DataFrame(df_bids_outcome.groupby(['country']).size().reset_index(name = \"bid_count\")).dropna())\n",
    "names = ['by = bidder_id', 'by = auction', 'by = merchandise', 'by = country']\n"
   ]
  },
  {
   "cell_type": "markdown",
   "metadata": {},
   "source": [
    "__Log distribution plot of bid counts__"
   ]
  },
  {
   "cell_type": "code",
   "execution_count": null,
   "metadata": {},
   "outputs": [],
   "source": [
    "import math\n",
    "\n",
    "\n",
    "def get_log(num):\n",
    "    return math.log(num)\n",
    "\n",
    "\n",
    "bidder_outcome_df = pd.DataFrame(df_bids_outcome.groupby(['bidder_id','outcome']).size().reset_index(name = \"bid_count\")).dropna()\n",
    "bidder_outcome_df['log'] = list(map(get_log, bidder_outcome_df['bid_count']))\n",
    "final_bidder_outcome_df = bidder_outcome_df[bidder_outcome_df['log'] != 0]\n",
    "final_bidder_outcome_df\n",
    "plt.figure(figsize=(10,6))\n",
    "a = sns.kdeplot(final_bidder_outcome_df.loc[final_bidder_outcome_df.outcome==0, 'log'], shade=True, label='human');\n",
    "sns.kdeplot(final_bidder_outcome_df.loc[final_bidder_outcome_df.outcome==1, 'log'], shade=True, ax=a, label='bot');\n",
    "plt.xlabel('#Bid Counts',fontsize=20)\n",
    "plt.ylabel('Density',fontsize=20)\n",
    "plt.legend(('HUMAN','BOT'), loc='upper right',fontsize=15)\n",
    "plt.xticks(fontsize=14)\n",
    "plt.yticks(fontsize=14)\n",
    "plt.savefig('bid_count.png') \n"
   ]
  },
  {
   "cell_type": "markdown",
   "metadata": {},
   "source": [
    "__Log distribution plot of bid counts by auctions__"
   ]
  },
  {
   "cell_type": "code",
   "execution_count": 58,
   "metadata": {},
   "outputs": [
    {
     "data": {
      "image/png": "[encoded data removed]",
      "text/plain": [
       "<Figure size 720x432 with 1 Axes>"
      ]
     },
     "metadata": {
      "needs_background": "light"
     },
     "output_type": "display_data"
    }
   ],
   "source": [
    "import math\n",
    "\n",
    "def get_log(num):\n",
    "    return math.log(num)\n",
    "\n",
    "bid_count_auction = pd.DataFrame(df_bids_outcome.groupby(['auction','outcome']).size().reset_index(name = \"bid_count\")).dropna()\n",
    "\n",
    "bid_count_auction['log'] = list(map(get_log, bid_count_auction['bid_count']))\n",
    "final_bidder_outcome_df = bid_count_auction[bid_count_auction['log'] != 0]\n",
    "final_bidder_outcome_df\n",
    "plt.figure(figsize=(10, 6))\n",
    "a = sns.kdeplot(final_bidder_outcome_df.loc[final_bidder_outcome_df.outcome == 0, 'log'], shade=True, label='human');\n",
    "sns.kdeplot(final_bidder_outcome_df.loc[final_bidder_outcome_df.outcome == 1, 'log'], shade=True, ax=a, label='bot');\n",
    "plt.xlabel('#Bid Counts by Auctions',fontsize=20)\n",
    "plt.ylabel('Density', fontsize=20)\n",
    "plt.xticks(fontsize=14)\n",
    "plt.yticks(fontsize=14)\n",
    "plt.legend(('HUMAN', 'BOT'), loc='upper right', fontsize=15)\n",
    "plt.savefig('bid_count_auction.png') "
   ]
  },
  {
   "cell_type": "markdown",
   "metadata": {},
   "source": [
    "__Log distribution plot of IP counts by auctions__"
   ]
  },
  {
   "cell_type": "code",
   "execution_count": 40,
   "metadata": {},
   "outputs": [
    {
     "data": {
      "image/png": "[encoded data removed]",
      "text/plain": [
       "<Figure size 720x432 with 1 Axes>"
      ]
     },
     "metadata": {
      "needs_background": "light"
     },
     "output_type": "display_data"
    }
   ],
   "source": [
    "ip_counts = pd.DataFrame(df_bids_outcome.groupby(['auction','outcome']).ip.nunique().reset_index(name = \"ip_counts\")).dropna()\n",
    "\n",
    "ip_counts['log'] = list(map(get_log, ip_counts['ip_counts']))\n",
    "final_bidder_outcome_df = ip_counts[ip_counts['log'] != 0]\n",
    "final_bidder_outcome_df\n",
    "plt.figure(figsize=(10, 6))\n",
    "a = sns.kdeplot(final_bidder_outcome_df.loc[final_bidder_outcome_df.outcome == 0, 'log'], shade=True, label='human');\n",
    "sns.kdeplot(final_bidder_outcome_df.loc[final_bidder_outcome_df.outcome == 1, 'log'], shade=True, ax=a, label='bot');\n",
    "plt.xlabel('#IP Counts by Auctions', fontsize=20)\n",
    "plt.ylabel('Density', fontsize=20)\n",
    "plt.xticks(fontsize=14)\n",
    "plt.yticks(fontsize=14)\n",
    "plt.legend(('HUMAN', 'BOT'), loc='upper right', fontsize=15)\n",
    "plt.savefig('ip_count_auction.png') \n"
   ]
  },
  {
   "cell_type": "markdown",
   "metadata": {},
   "source": [
    "__Log distribution plot of merchandise counts by auctions__"
   ]
  },
  {
   "cell_type": "code",
   "execution_count": 41,
   "metadata": {},
   "outputs": [
    {
     "data": {
      "image/png": "[encoded data removed]",
      "text/plain": [
       "<Figure size 720x432 with 1 Axes>"
      ]
     },
     "metadata": {
      "needs_background": "light"
     },
     "output_type": "display_data"
    }
   ],
   "source": [
    "merc_counts = pd.DataFrame(df_bids_outcome.groupby(['auction','outcome']).merchandise.nunique().reset_index(name = \"merc_counts\")).dropna()\n",
    "\n",
    "merc_counts['log'] = list(map(get_log, merc_counts['merc_counts']))\n",
    "final_bidder_outcome_df = merc_counts[merc_counts['log'] != 0]\n",
    "final_bidder_outcome_df\n",
    "plt.figure(figsize=(10, 6))\n",
    "a = sns.kdeplot(final_bidder_outcome_df.loc[final_bidder_outcome_df.outcome == 0, 'log'], shade=True, label='human');\n",
    "sns.kdeplot(final_bidder_outcome_df.loc[final_bidder_outcome_df.outcome == 1, 'log'], shade=True, ax=a, label='bot');\n",
    "plt.xlabel('#Merchandise Counts by Auctions', fontsize = 20)\n",
    "plt.ylabel('Density',fontsize=20)\n",
    "plt.xticks(fontsize=14)\n",
    "plt.yticks(fontsize=14)\n",
    "plt.legend(('HUMAN', 'BOT'), loc='upper right', fontsize=15)\n",
    "plt.savefig('merc_count_auction.png') "
   ]
  },
  {
   "cell_type": "markdown",
   "metadata": {},
   "source": [
    "__Merchandise where Human and Bots are bidding__"
   ]
  },
  {
   "cell_type": "code",
   "execution_count": 57,
   "metadata": {},
   "outputs": [
    {
     "data": {
      "text/plain": [
       "<Figure size 432x288 with 0 Axes>"
      ]
     },
     "metadata": {},
     "output_type": "display_data"
    }
   ],
   "source": [
    "merchandise = pd.DataFrame(df_bids_outcome.groupby(['outcome','merchandise']).size().reset_index(name = \"bid_count\")).dropna()\n",
    "merchandise.loc[merchandise.outcome == 0].sort_values(by='bid_count', ascending=False)\n",
    "plt.savefig('table') "
   ]
  },
  {
   "cell_type": "code",
   "execution_count": 43,
   "metadata": {},
   "outputs": [
    {
     "data": {
      "text/html": [
       "<div>\n",
       "<style scoped>\n",
       "    .dataframe tbody tr th:only-of-type {\n",
       "        vertical-align: middle;\n",
       "    }\n",
       "\n",
       "    .dataframe tbody tr th {\n",
       "        vertical-align: top;\n",
       "    }\n",
       "\n",
       "    .dataframe thead th {\n",
       "        text-align: right;\n",
       "    }\n",
       "</style>\n",
       "<table border=\"1\" class=\"dataframe\">\n",
       "  <thead>\n",
       "    <tr style=\"text-align: right;\">\n",
       "      <th></th>\n",
       "      <th>outcome</th>\n",
       "      <th>merchandise</th>\n",
       "      <th>bid_count</th>\n",
       "    </tr>\n",
       "  </thead>\n",
       "  <tbody>\n",
       "    <tr>\n",
       "      <th>16</th>\n",
       "      <td>1.0</td>\n",
       "      <td>sporting goods</td>\n",
       "      <td>230326</td>\n",
       "    </tr>\n",
       "    <tr>\n",
       "      <th>14</th>\n",
       "      <td>1.0</td>\n",
       "      <td>mobile</td>\n",
       "      <td>105138</td>\n",
       "    </tr>\n",
       "    <tr>\n",
       "      <th>13</th>\n",
       "      <td>1.0</td>\n",
       "      <td>jewelry</td>\n",
       "      <td>37101</td>\n",
       "    </tr>\n",
       "    <tr>\n",
       "      <th>12</th>\n",
       "      <td>1.0</td>\n",
       "      <td>home goods</td>\n",
       "      <td>18708</td>\n",
       "    </tr>\n",
       "    <tr>\n",
       "      <th>11</th>\n",
       "      <td>1.0</td>\n",
       "      <td>computers</td>\n",
       "      <td>11667</td>\n",
       "    </tr>\n",
       "    <tr>\n",
       "      <th>15</th>\n",
       "      <td>1.0</td>\n",
       "      <td>office equipment</td>\n",
       "      <td>7967</td>\n",
       "    </tr>\n",
       "    <tr>\n",
       "      <th>10</th>\n",
       "      <td>1.0</td>\n",
       "      <td>books and music</td>\n",
       "      <td>1509</td>\n",
       "    </tr>\n",
       "  </tbody>\n",
       "</table>\n",
       "</div>"
      ],
      "text/plain": [
       "    outcome       merchandise  bid_count\n",
       "16      1.0    sporting goods     230326\n",
       "14      1.0            mobile     105138\n",
       "13      1.0           jewelry      37101\n",
       "12      1.0        home goods      18708\n",
       "11      1.0         computers      11667\n",
       "15      1.0  office equipment       7967\n",
       "10      1.0   books and music       1509"
      ]
     },
     "execution_count": 43,
     "metadata": {},
     "output_type": "execute_result"
    }
   ],
   "source": [
    "merchandise.loc[merchandise.outcome == 1].sort_values(by='bid_count', ascending=False)"
   ]
  },
  {
   "cell_type": "code",
   "execution_count": null,
   "metadata": {},
   "outputs": [],
   "source": []
  }
 ],
 "metadata": {
  "kernelspec": {
   "display_name": "Python 3",
   "language": "python",
   "name": "python3"
  },
  "language_info": {
   "codemirror_mode": {
    "name": "ipython",
    "version": 3
   },
   "file_extension": ".py",
   "mimetype": "text/x-python",
   "name": "python",
   "nbconvert_exporter": "python",
   "pygments_lexer": "ipython3",
   "version": "3.6.8"
  }
 },
 "nbformat": 4,
 "nbformat_minor": 2
}
