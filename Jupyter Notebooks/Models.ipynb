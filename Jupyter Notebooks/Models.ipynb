{
 "cells": [
  {
   "cell_type": "markdown",
   "metadata": {},
   "source": [
    "------\n",
    "### Metis: Project McNulty \n",
    ">  Neha Gupta                \n",
    ">  Date: 2/13/2019\n",
    "-------"
   ]
  },
  {
   "cell_type": "markdown",
   "metadata": {},
   "source": [
    "### Import Libraries"
   ]
  },
  {
   "cell_type": "code",
   "execution_count": 53,
   "metadata": {},
   "outputs": [],
   "source": [
    "from collections import Counter\n",
    "import matplotlib.pyplot as plt\n",
    "import pandas as pd\n",
    "from sklearn.model_selection import train_test_split\n",
    "from sklearn import metrics\n",
    "from rfpimp import *\n",
    "from sklearn.model_selection import cross_val_score\n",
    "from imblearn.over_sampling import ADASYN\n",
    "from imblearn.over_sampling import SMOTE\n",
    "from sklearn.tree import DecisionTreeClassifier\n",
    "from sklearn.ensemble import RandomForestClassifier\n",
    "from sklearn.linear_model import LogisticRegression\n",
    "from sklearn.neighbors import KNeighborsClassifier\n",
    "from sklearn.naive_bayes import GaussianNB\n",
    "from sklearn.model_selection import GridSearchCV\n",
    "from sklearn.svm import SVC\n",
    "from sklearn.datasets import make_classification\n",
    "from sklearn.ensemble import ExtraTreesClassifier\n",
    "import numpy as np"
   ]
  },
  {
   "cell_type": "code",
   "execution_count": 9,
   "metadata": {},
   "outputs": [],
   "source": [
    "feature_of_all_train_df_clean = pd.read_csv('../DataSet/feature_of_all_train_df_clean.csv')\n",
    "X = feature_of_all_train_df_clean.iloc[:, 2:-1]\n",
    "y = feature_of_all_train_df_clean.outcome"
   ]
  },
  {
   "cell_type": "code",
   "execution_count": 10,
   "metadata": {},
   "outputs": [],
   "source": [
    "X_train, X_test, y_train, y_test = train_test_split(X, y, test_size=0.3, random_state=42)\n",
    "\n",
    "# X_train.shape\n",
    "\n",
    "# X_test.shape\n",
    "\n",
    "# y_train.shape\n",
    "\n",
    "# y_test.shape"
   ]
  },
  {
   "cell_type": "code",
   "execution_count": 11,
   "metadata": {},
   "outputs": [
    {
     "data": {
      "text/plain": [
       "Counter({0.0: 1881, 1.0: 1881})"
      ]
     },
     "execution_count": 11,
     "metadata": {},
     "output_type": "execute_result"
    }
   ],
   "source": [
    "SMOTE_X_resampled, SMOTE_y_resampled  = SMOTE(random_state=30).fit_sample(X, y)\n",
    "Counter(SMOTE_y_resampled)"
   ]
  },
  {
   "cell_type": "code",
   "execution_count": 12,
   "metadata": {},
   "outputs": [],
   "source": [
    "SMOTE_X_train, SMOTE_X_test, SMOTE_y_train, SMOTE_y_test = train_test_split(SMOTE_X_resampled,SMOTE_y_resampled,test_size = 0.3,random_state=42)"
   ]
  },
  {
   "cell_type": "code",
   "execution_count": 13,
   "metadata": {},
   "outputs": [
    {
     "data": {
      "text/plain": [
       "Counter({0.0: 1881, 1.0: 1879})"
      ]
     },
     "execution_count": 13,
     "metadata": {},
     "output_type": "execute_result"
    }
   ],
   "source": [
    "ADASYN_X_resampled, ADASYN_y_resampled= ADASYN(random_state=30).fit_sample(X, y)\n",
    "Counter(ADASYN_y_resampled)"
   ]
  },
  {
   "cell_type": "code",
   "execution_count": 14,
   "metadata": {},
   "outputs": [],
   "source": [
    "ADASYN_X_train, ADASYN_X_test, ADASYN_y_train, ADASYN_y_test = train_test_split(ADASYN_X_resampled,ADASYN_y_resampled,test_size = 0.3, random_state=42)"
   ]
  },
  {
   "cell_type": "markdown",
   "metadata": {},
   "source": [
    "## Logistic Regression"
   ]
  },
  {
   "cell_type": "markdown",
   "metadata": {},
   "source": [
    "__Logistic Regression with SMOTE__"
   ]
  },
  {
   "cell_type": "code",
   "execution_count": 15,
   "metadata": {},
   "outputs": [
    {
     "name": "stdout",
     "output_type": "stream",
     "text": [
      "0.7880005654639636\n"
     ]
    }
   ],
   "source": [
    "LogReg_SMOTE = LogisticRegression(solver='lbfgs', max_iter=1000)\n",
    "LogReg_SMOTE.fit(SMOTE_X_train, SMOTE_y_train)\n",
    "\n",
    "\n",
    "y_pred_SMOTE = LogReg_SMOTE.predict(SMOTE_X_test)\n",
    "\n",
    "print(metrics.f1_score(SMOTE_y_test, y_pred_SMOTE, average='weighted'))"
   ]
  },
  {
   "cell_type": "markdown",
   "metadata": {},
   "source": [
    "__Logistic Regression with ADASYN__"
   ]
  },
  {
   "cell_type": "code",
   "execution_count": 16,
   "metadata": {},
   "outputs": [
    {
     "name": "stdout",
     "output_type": "stream",
     "text": [
      "0.7650779796664828\n"
     ]
    }
   ],
   "source": [
    "LogReg_ADASYN = LogisticRegression(solver='lbfgs', max_iter=1000)\n",
    "LogReg_ADASYN.fit(ADASYN_X_train, ADASYN_y_train)\n",
    "\n",
    "y_pred_ADASYN = LogReg_ADASYN.predict(ADASYN_X_test)\n",
    "\n",
    "print(metrics.f1_score(ADASYN_y_test, y_pred_ADASYN, average='weighted'))"
   ]
  },
  {
   "cell_type": "markdown",
   "metadata": {},
   "source": [
    "### HyperParameter Tuning for Logistic Regression"
   ]
  },
  {
   "cell_type": "code",
   "execution_count": 17,
   "metadata": {},
   "outputs": [
    {
     "name": "stdout",
     "output_type": "stream",
     "text": [
      "LogisticRegression(C=1.0, class_weight=None, dual=False, fit_intercept=True,\n",
      "          intercept_scaling=1, max_iter=100, multi_class='warn',\n",
      "          n_jobs=None, penalty='l2', random_state=None, solver='liblinear',\n",
      "          tol=0.0001, verbose=0, warm_start=False)\n",
      "0.7908442681426321\n"
     ]
    }
   ],
   "source": [
    "# Hyper Parameter for Logistic Regression\n",
    "log_param_grid={'C':np.logspace(-3, 3, 7), 'penalty':['l1', 'l2']}\n",
    "logreg = LogisticRegression(solver='liblinear')\n",
    "log_grid = GridSearchCV(logreg, log_param_grid, cv=10, n_jobs=8, scoring='roc_auc')\n",
    "\n",
    "## ----------------------- Applying Best Parameter\n",
    "log_grid.fit(SMOTE_X_train, SMOTE_y_train)\n",
    "\n",
    "# Final res\n",
    "bestClf = log_grid.best_estimator_\n",
    "print(bestClf)\n",
    "\n",
    "bestClf.fit(SMOTE_X_train, SMOTE_y_train)\n",
    "\n",
    "y_pred = bestClf.predict(SMOTE_X_test)\n",
    "print(metrics.f1_score(SMOTE_y_test, y_pred, average='weighted'))"
   ]
  },
  {
   "cell_type": "markdown",
   "metadata": {},
   "source": [
    "# KNN Model"
   ]
  },
  {
   "cell_type": "markdown",
   "metadata": {},
   "source": [
    "__KNN with SMOTE__"
   ]
  },
  {
   "cell_type": "code",
   "execution_count": 24,
   "metadata": {},
   "outputs": [
    {
     "data": {
      "text/plain": [
       "Text(0, 0.5, 'Cross-Validated f1 Score')"
      ]
     },
     "execution_count": 24,
     "metadata": {},
     "output_type": "execute_result"
    },
    {
     "data": {
      "image/png": "[encoded data removed]",
      "text/plain": [
       "<Figure size 432x288 with 1 Axes>"
      ]
     },
     "metadata": {},
     "output_type": "display_data"
    }
   ],
   "source": [
    "k_range = list(range(1, 100))\n",
    "k_scores = {}\n",
    "for k in k_range:\n",
    "  knn = KNeighborsClassifier(n_neighbors=k)\n",
    "  scores = cross_val_score(knn, SMOTE_X_train, SMOTE_y_train, cv=10, scoring='f1')\n",
    "  k_scores[k] = scores.mean()\n",
    "\n",
    "plt.plot(k_range, k_scores.values())\n",
    "plt.xlabel('Value of K for KNN')\n",
    "plt.ylabel('Cross-Validated f1 Score')"
   ]
  },
  {
   "cell_type": "code",
   "execution_count": 25,
   "metadata": {},
   "outputs": [
    {
     "name": "stdout",
     "output_type": "stream",
     "text": [
      "1\n",
      "0.9159046160322871\n"
     ]
    }
   ],
   "source": [
    "best_k = -1\n",
    "max_score = -1\n",
    "for k,score in k_scores.items():\n",
    "    if score > max_score:\n",
    "        best_k = k\n",
    "        max_score = score\n",
    "print(best_k)\n",
    "print(max_score)"
   ]
  },
  {
   "cell_type": "markdown",
   "metadata": {},
   "source": [
    "__KNN with SMOTE__"
   ]
  },
  {
   "cell_type": "code",
   "execution_count": 26,
   "metadata": {},
   "outputs": [
    {
     "name": "stdout",
     "output_type": "stream",
     "text": [
      "0.9167353833051443\n"
     ]
    }
   ],
   "source": [
    "knn = KNeighborsClassifier(n_neighbors=best_k)\n",
    "knn.fit(SMOTE_X_train, SMOTE_y_train)\n",
    "y_pred = knn.predict(SMOTE_X_test)\n",
    "print(metrics.f1_score(SMOTE_y_test, y_pred, average='weighted'))"
   ]
  },
  {
   "cell_type": "markdown",
   "metadata": {},
   "source": [
    "__KNN with ADASYN__"
   ]
  },
  {
   "cell_type": "code",
   "execution_count": 27,
   "metadata": {},
   "outputs": [
    {
     "name": "stdout",
     "output_type": "stream",
     "text": [
      "0.9192663039346354\n"
     ]
    }
   ],
   "source": [
    "knn = KNeighborsClassifier(n_neighbors=best_k)\n",
    "knn.fit(ADASYN_X_train, ADASYN_y_train)\n",
    "y_pred = knn.predict(ADASYN_X_test)\n",
    "print(metrics.f1_score(ADASYN_y_test, y_pred, average='weighted'))"
   ]
  },
  {
   "cell_type": "markdown",
   "metadata": {},
   "source": [
    "### HyperParameter Tuning for KNN"
   ]
  },
  {
   "cell_type": "code",
   "execution_count": 20,
   "metadata": {},
   "outputs": [
    {
     "name": "stdout",
     "output_type": "stream",
     "text": [
      "KNeighborsClassifier(algorithm='auto', leaf_size=30, metric='minkowski',\n",
      "           metric_params=None, n_jobs=None, n_neighbors=11, p=2,\n",
      "           weights='distance')\n",
      "0.8918821082793104\n"
     ]
    }
   ],
   "source": [
    "# Hyper Parameter for KNN\n",
    "knn_param = {'n_neighbors' : range(1,200,10), 'algorithm':['auto', 'ball_tree','kd_tree','brute'], \n",
    "             'weights':['uniform', 'distance']}\n",
    "\n",
    "knn = KNeighborsClassifier()\n",
    "knn_grid = GridSearchCV(knn, knn_param, cv=10, n_jobs=8, scoring='roc_auc')\n",
    "knn_grid.fit(SMOTE_X_train, SMOTE_y_train)\n",
    "\n",
    "## ----------------------- Applying Best Parameter\n",
    "# Final res\n",
    "bestClf = knn_grid.best_estimator_\n",
    "print(bestClf)\n",
    "\n",
    "bestClf.fit(SMOTE_X_train, SMOTE_y_train)\n",
    "\n",
    "y_pred = bestClf.predict(SMOTE_X_test)\n",
    "print(metrics.f1_score(SMOTE_y_test, y_pred, average='weighted'))"
   ]
  },
  {
   "cell_type": "code",
   "execution_count": 29,
   "metadata": {},
   "outputs": [
    {
     "data": {
      "text/plain": [
       "['../HumanVSBotApp/data/knn.joblib']"
      ]
     },
     "execution_count": 29,
     "metadata": {},
     "output_type": "execute_result"
    }
   ],
   "source": [
    "from joblib import dump, load\n",
    "dump(knn, '../HumanVSBotApp/data/knn.joblib') "
   ]
  },
  {
   "cell_type": "markdown",
   "metadata": {},
   "source": [
    "# Decision Tree"
   ]
  },
  {
   "cell_type": "markdown",
   "metadata": {},
   "source": [
    "__Decision Tree with SMOTE__"
   ]
  },
  {
   "cell_type": "code",
   "execution_count": 30,
   "metadata": {},
   "outputs": [
    {
     "name": "stdout",
     "output_type": "stream",
     "text": [
      "0.914088382340001\n"
     ]
    }
   ],
   "source": [
    "dtree = DecisionTreeClassifier()\n",
    "dtree.fit(SMOTE_X_train, SMOTE_y_train)\n",
    "y_pred = dtree.predict(SMOTE_X_test)\n",
    "print(metrics.f1_score(SMOTE_y_test, y_pred, average='weighted'))"
   ]
  },
  {
   "cell_type": "markdown",
   "metadata": {},
   "source": [
    "__Decision Tree with ADASYN__"
   ]
  },
  {
   "cell_type": "code",
   "execution_count": 31,
   "metadata": {},
   "outputs": [
    {
     "name": "stdout",
     "output_type": "stream",
     "text": [
      "0.917560902642645\n"
     ]
    }
   ],
   "source": [
    "dtree = DecisionTreeClassifier()\n",
    "dtree.fit(ADASYN_X_train, ADASYN_y_train)\n",
    "y_pred = dtree.predict(ADASYN_X_test)\n",
    "print(metrics.f1_score(ADASYN_y_test, y_pred, average='weighted'))"
   ]
  },
  {
   "cell_type": "markdown",
   "metadata": {},
   "source": [
    "### HyperParameter Tuning for Decision Tree"
   ]
  },
  {
   "cell_type": "code",
   "execution_count": 21,
   "metadata": {},
   "outputs": [
    {
     "name": "stdout",
     "output_type": "stream",
     "text": [
      "KNeighborsClassifier(algorithm='auto', leaf_size=30, metric='minkowski',\n",
      "           metric_params=None, n_jobs=None, n_neighbors=11, p=2,\n",
      "           weights='distance')\n",
      "0.8918821082793104\n"
     ]
    }
   ],
   "source": [
    "# Hyper Parameter for Decision Tree\n",
    "dectree_param_grid={'min_samples_split' : range(10,500,10), 'max_features': ['auto', 'sqrt', 'log2'],\n",
    "                    'max_depth': range(1,10,2), 'criterion':['gini','entropy'], 'random_state':[123]}\n",
    "dtreee = DecisionTreeClassifier()\n",
    "dtreee_grid = GridSearchCV(dtreee, dectree_param_grid, cv=10, n_jobs=8, scoring='roc_auc')\n",
    "dtreee_grid.fit(SMOTE_X_train, SMOTE_y_train)\n",
    "\n",
    "## ----------------------- Applying Best Parameter\n",
    "# Final res\n",
    "bestClf = knn_grid.best_estimator_\n",
    "print(bestClf)\n",
    "\n",
    "bestClf.fit(SMOTE_X_train, SMOTE_y_train)\n",
    "\n",
    "y_pred = bestClf.predict(SMOTE_X_test)\n",
    "print(metrics.f1_score(SMOTE_y_test, y_pred, average='weighted'))"
   ]
  },
  {
   "cell_type": "markdown",
   "metadata": {},
   "source": [
    "# Random Forest Mddel"
   ]
  },
  {
   "cell_type": "markdown",
   "metadata": {},
   "source": [
    "__Random Forest with SMOTE__"
   ]
  },
  {
   "cell_type": "code",
   "execution_count": 24,
   "metadata": {},
   "outputs": [
    {
     "name": "stdout",
     "output_type": "stream",
     "text": [
      "0.8740596715102785\n"
     ]
    }
   ],
   "source": [
    "clf = RandomForestClassifier(n_estimators=600,max_depth=5,min_samples_leaf=2)\n",
    "\n",
    "clf.fit(SMOTE_X_train, SMOTE_y_train)\n",
    "\n",
    "y_pred = clf.predict(SMOTE_X_test)\n",
    "print(metrics.f1_score(SMOTE_y_test, y_pred, average='weighted'))"
   ]
  },
  {
   "cell_type": "markdown",
   "metadata": {},
   "source": [
    "__Random Forest with ADASYN__"
   ]
  },
  {
   "cell_type": "code",
   "execution_count": 34,
   "metadata": {},
   "outputs": [
    {
     "name": "stdout",
     "output_type": "stream",
     "text": [
      "0.8686093899780968\n"
     ]
    }
   ],
   "source": [
    "clf = RandomForestClassifier(n_estimators=600,max_depth=5,min_samples_leaf=2)\n",
    "\n",
    "clf.fit(ADASYN_X_train, ADASYN_y_train)\n",
    "\n",
    "y_pred = clf.predict(ADASYN_X_test)\n",
    "print(metrics.f1_score(ADASYN_y_test, y_pred, average='weighted'))"
   ]
  },
  {
   "cell_type": "markdown",
   "metadata": {},
   "source": [
    "### HyperParameter Tuning for Random Forest"
   ]
  },
  {
   "cell_type": "code",
   "execution_count": 18,
   "metadata": {},
   "outputs": [
    {
     "name": "stdout",
     "output_type": "stream",
     "text": [
      "RandomForestClassifier(bootstrap=True, class_weight='balanced_subsample',\n",
      "            criterion='gini', max_depth=100, max_features='auto',\n",
      "            max_leaf_nodes=None, min_impurity_decrease=0.0,\n",
      "            min_impurity_split=None, min_samples_leaf=1,\n",
      "            min_samples_split=2, min_weight_fraction_leaf=0.0,\n",
      "            n_estimators=301, n_jobs=None, oob_score=False,\n",
      "            random_state=None, verbose=0, warm_start=False)\n",
      "0.9468593769442629\n"
     ]
    }
   ],
   "source": [
    "# Hyper Parameter for RandomForestClassifier\n",
    "HP_range = np.array([ 5, 50, 100])\n",
    "HP2_range = np.array([10, 301, 401, 501])\n",
    "grid = GridSearchCV(RandomForestClassifier(n_estimators=300, max_depth=None,\n",
    "                                                                   max_features='auto', class_weight='balanced_subsample'),\n",
    "                    {'max_depth' : HP_range,\n",
    "                    'n_estimators' : HP2_range},\n",
    "                   cv=10, n_jobs=8, scoring='roc_auc')\n",
    "grid.fit(SMOTE_X_train, SMOTE_y_train)\n",
    "\n",
    "# Final res\n",
    "bestClf = grid.best_estimator_\n",
    "print(bestClf)\n",
    "## ----------------------- Applying Best Parameter\n",
    "bestClf.fit(SMOTE_X_train, SMOTE_y_train)\n",
    "\n",
    "y_pred = bestClf.predict(SMOTE_X_test)\n",
    "print(metrics.f1_score(SMOTE_y_test, y_pred, average='weighted'))"
   ]
  },
  {
   "cell_type": "markdown",
   "metadata": {},
   "source": [
    "__Feature Importance with Forest Random__"
   ]
  },
  {
   "cell_type": "code",
   "execution_count": 38,
   "metadata": {},
   "outputs": [],
   "source": [
    "import pandas as pd\n",
    "feature_importances = pd.DataFrame(clf.feature_importances_,\n",
    "                                   index = X_train.columns,\n",
    "                                    columns=['importance']).sort_values('importance',                                                                 ascending=False)"
   ]
  },
  {
   "cell_type": "code",
   "execution_count": 39,
   "metadata": {},
   "outputs": [
    {
     "name": "stdout",
     "output_type": "stream",
     "text": [
      "                                      importance\n",
      "average_bids_per_auction                0.288724\n",
      "bid_count                               0.240680\n",
      "avg_bids_auction                        0.095679\n",
      "num_auction_won                         0.088288\n",
      "percentage_win                          0.061973\n",
      "num_auction                             0.056541\n",
      "ip_count                                0.050930\n",
      "country_count                           0.033610\n",
      "average_distinct_dev_per_auction        0.033568\n",
      "average_distinct_country_per_auction    0.025438\n",
      "competitors                             0.024569\n",
      "average_distinct_merc_per_auction       0.000000\n"
     ]
    }
   ],
   "source": [
    "print(feature_importances)"
   ]
  },
  {
   "cell_type": "code",
   "execution_count": 58,
   "metadata": {},
   "outputs": [
    {
     "data": {
      "image/png": "[encoded data removed]",
      "text/plain": [
       "<Figure size 288x191.52 with 1 Axes>"
      ]
     },
     "metadata": {
      "needs_background": "light"
     },
     "output_type": "display_data"
    }
   ],
   "source": [
    "I = importances(clf, X, y)\n",
    "plot_importances(I)\n",
    "plt.savefig('merc_count_auction.png') "
   ]
  },
  {
   "cell_type": "code",
   "execution_count": 59,
   "metadata": {},
   "outputs": [
    {
     "data": {
      "text/plain": [
       "['../HumanVSBotApp/data/knn.joblib']"
      ]
     },
     "execution_count": 59,
     "metadata": {},
     "output_type": "execute_result"
    }
   ],
   "source": [
    "from joblib import dump, load\n",
    "dump(knn, '../HumanVSBotApp/data/knn.joblib') "
   ]
  },
  {
   "cell_type": "markdown",
   "metadata": {},
   "source": [
    "# Naive Bayes"
   ]
  },
  {
   "cell_type": "markdown",
   "metadata": {},
   "source": [
    "__Naive Bayes with SMOTE__"
   ]
  },
  {
   "cell_type": "code",
   "execution_count": 37,
   "metadata": {},
   "outputs": [
    {
     "name": "stdout",
     "output_type": "stream",
     "text": [
      "0.5689095437220135\n"
     ]
    }
   ],
   "source": [
    "model = GaussianNB()\n",
    "model.fit(SMOTE_X_train, SMOTE_y_train)\n",
    "\n",
    "y_pred = model.predict(SMOTE_X_test)\n",
    "\n",
    "\n",
    "print(metrics.f1_score(SMOTE_y_test, y_pred, average='weighted'))"
   ]
  },
  {
   "cell_type": "markdown",
   "metadata": {},
   "source": [
    "__Naive Bayes with ADASYN__"
   ]
  },
  {
   "cell_type": "code",
   "execution_count": 38,
   "metadata": {},
   "outputs": [
    {
     "name": "stdout",
     "output_type": "stream",
     "text": [
      "0.6505782119694129\n"
     ]
    }
   ],
   "source": [
    "model = GaussianNB()\n",
    "model.fit(ADASYN_X_train, ADASYN_y_train)\n",
    "\n",
    "y_pred = model.predict(ADASYN_X_test)\n",
    "\n",
    "\n",
    "print(metrics.f1_score(ADASYN_y_test, y_pred, average='weighted'))"
   ]
  },
  {
   "cell_type": "markdown",
   "metadata": {},
   "source": [
    "__No HyperParameter Tuning for Naive Bayes model https://stats.stackexchange.com/questions/299842/why-grid-search-is-not-performed-for-naive-bayes-classifier__"
   ]
  },
  {
   "cell_type": "markdown",
   "metadata": {},
   "source": [
    "## SVM"
   ]
  },
  {
   "cell_type": "markdown",
   "metadata": {},
   "source": [
    "__SVM with SMOTE__"
   ]
  },
  {
   "cell_type": "code",
   "execution_count": 40,
   "metadata": {},
   "outputs": [
    {
     "name": "stdout",
     "output_type": "stream",
     "text": [
      "0.7944076960162201\n"
     ]
    }
   ],
   "source": [
    "model = SVC(kernel=\"linear\", C=0.025)\n",
    "# model = svm.svc(kernel='linear', c=1, gamma=1) \n",
    "model.fit(SMOTE_X_train,SMOTE_y_train)\n",
    "y_pred = model.predict(SMOTE_X_test)\n",
    "print(metrics.f1_score(SMOTE_y_test, y_pred, average='weighted'))"
   ]
  },
  {
   "cell_type": "markdown",
   "metadata": {},
   "source": [
    "__SVM with ADASYN__"
   ]
  },
  {
   "cell_type": "code",
   "execution_count": 320,
   "metadata": {},
   "outputs": [
    {
     "name": "stdout",
     "output_type": "stream",
     "text": [
      "0.7513873161296856\n"
     ]
    }
   ],
   "source": [
    "model = SVC(kernel=\"linear\", C=0.025)\n",
    "# model = svm.svc(kernel='linear', c=1, gamma=1) \n",
    "model.fit(ADASYN_X_train, ADASYN_y_train)\n",
    "y_pred = model.predict(ADASYN_X_test)\n",
    "print(metrics.f1_score(ADASYN_y_test, y_pred, average='weighted'))"
   ]
  },
  {
   "cell_type": "markdown",
   "metadata": {},
   "source": [
    "### HyperParameter Tuning for SVM"
   ]
  },
  {
   "cell_type": "code",
   "execution_count": 42,
   "metadata": {},
   "outputs": [
    {
     "name": "stdout",
     "output_type": "stream",
     "text": [
      "SVC(C=10, cache_size=200, class_weight=None, coef0=0.0,\n",
      "  decision_function_shape='ovr', degree=3, gamma=0.001, kernel='rbf',\n",
      "  max_iter=-1, probability=False, random_state=None, shrinking=True,\n",
      "  tol=0.001, verbose=False)\n",
      "0.8673817679513803\n"
     ]
    }
   ],
   "source": [
    "# Hyper Parameter for SVM\n",
    "Cs = [0.001, 0.01, 0.1, 1, 10]\n",
    "gammas = [0.001, 0.01, 0.1, 1]\n",
    "smv_param_grid = {'C': Cs, 'gamma' : gammas}\n",
    "svm_grid = GridSearchCV(SVC(kernel='rbf'), smv_param_grid, cv=10, n_jobs=8, scoring='roc_auc')\n",
    "svm_grid.fit(SMOTE_X_train, SMOTE_y_train)\n",
    "\n",
    "## ----------------------- Applying Best Parameter\n",
    "# Final res\n",
    "bestClf = svm_grid.best_estimator_\n",
    "print(bestClf)\n",
    "\n",
    "bestClf.fit(SMOTE_X_train, SMOTE_y_train)\n",
    "\n",
    "y_pred = bestClf.predict(SMOTE_X_test)\n",
    "print(metrics.f1_score(SMOTE_y_test, y_pred, average='weighted'))"
   ]
  },
  {
   "cell_type": "code",
   "execution_count": null,
   "metadata": {},
   "outputs": [],
   "source": []
  }
 ],
 "metadata": {
  "kernelspec": {
   "display_name": "Python 3",
   "language": "python",
   "name": "python3"
  },
  "language_info": {
   "codemirror_mode": {
    "name": "ipython",
    "version": 3
   },
   "file_extension": ".py",
   "mimetype": "text/x-python",
   "name": "python",
   "nbconvert_exporter": "python",
   "pygments_lexer": "ipython3",
   "version": "3.6.8"
  }
 },
 "nbformat": 4,
 "nbformat_minor": 2
}
